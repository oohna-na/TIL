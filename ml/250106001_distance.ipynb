{
 "cells": [
  {
   "cell_type": "code",
   "execution_count": null,
   "metadata": {},
   "outputs": [],
   "source": [
    "import pandas as pd\n",
    "import requests\n",
    "from tqdm import tqdm\n",
    "tqdm.pandas() \n",
    "import matplotlib.pyplot as plt\n",
    "import numpy as np"
   ]
  },
  {
   "cell_type": "code",
   "execution_count": 2,
   "metadata": {},
   "outputs": [],
   "source": [
    "import matplotlib.font_manager as fm\n",
    "fe = fm.FontEntry(\n",
    "    fname=r'/usr/share/fonts/truetype/nanum/NanumGothic.ttf', # ttf 파일이 저장되어 있는 경로\n",
    "    name='NanumBarunGothic')                        # 이 폰트의 원하는 이름 설정\n",
    "fm.fontManager.ttflist.insert(0, fe)              # Matplotlib에 폰트 추가\n",
    "plt.rcParams.update({'font.size': 10, 'font.family': 'NanumBarunGothic'}) # 폰트 설정\n",
    "plt.rc('font', family='NanumBarunGothic')\n",
    "random_state = 2023"
   ]
  },
  {
   "cell_type": "code",
   "execution_count": null,
   "metadata": {},
   "outputs": [],
   "source": [
    "# 필요한 데이터를 load 하겠습니다. 경로는 환경에 맞게 지정해주면 됩니다.\n",
    "train_path = '../data/xy_train.csv'\n",
    "test_path  = '../data/xy_test.csv'\n",
    "dt = pd.read_csv(train_path)\n",
    "dt_test = pd.read_csv(test_path)"
   ]
  },
  {
   "cell_type": "code",
   "execution_count": null,
   "metadata": {},
   "outputs": [],
   "source": [
    "print(dt.shape, dt_test.shape)"
   ]
  },
  {
   "cell_type": "code",
   "execution_count": 5,
   "metadata": {},
   "outputs": [],
   "source": [
    "# train/test 구분을 위한 칼럼을 하나 만들어 줍니다.\n",
    "dt['is_test'] = 0\n",
    "dt_test['is_test'] = 1\n",
    "concat = pd.concat([dt, dt_test])     # 하나의 데이터로 만들어줍니다."
   ]
  },
  {
   "cell_type": "markdown",
   "metadata": {},
   "source": [
    "# 좌표"
   ]
  },
  {
   "cell_type": "code",
   "execution_count": null,
   "metadata": {},
   "outputs": [],
   "source": [
    "concat[['좌표X', '좌표Y']].isnull().sum()"
   ]
  },
  {
   "cell_type": "code",
   "execution_count": 7,
   "metadata": {},
   "outputs": [],
   "source": [
    "api_key = ''"
   ]
  },
  {
   "cell_type": "code",
   "execution_count": 8,
   "metadata": {},
   "outputs": [],
   "source": [
    "def get_coordinates_with_fallback(region, bonbun, bubun, api_key):\n",
    "    \"\"\"\n",
    "    주소를 단계적으로 축소해가며 좌표를 검색합니다.\n",
    "    \n",
    "    Parameters:\n",
    "    - region (str): 행정구역 (시/도 + 구/군 + 읍/면/동)\n",
    "    - bonbun (int): 본번\n",
    "    - bubun (int): 부번\n",
    "    - api_key (str): Kakao Maps REST API 키\n",
    "    \n",
    "    Returns:\n",
    "    - tuple: (latitude, longitude) 또는 None (오류 시)\n",
    "    \"\"\"\n",
    "    # 주소를 축소하는 순서대로 리스트 생성\n",
    "    addresses = []\n",
    "    # if bubun > 0:\n",
    "    addresses.append(f\"{region} {bonbun}-{bubun}\")  # 본번과 부번 포함\n",
    "    addresses.append(f\"{region} {bonbun}\")  # 본번만 포함\n",
    "    addresses.append(region)  # 행정구역만 포함\n",
    "\n",
    "    url = \"https://dapi.kakao.com/v2/local/search/address.json\"\n",
    "    headers = {\"Authorization\": f\"KakaoAK {api_key}\"}\n",
    "\n",
    "    for address in addresses:\n",
    "        params = {\"query\": address}\n",
    "        try:\n",
    "            response = requests.get(url, headers=headers, params=params)\n",
    "            response.raise_for_status()\n",
    "            result = response.json()\n",
    "\n",
    "            if result[\"documents\"]:\n",
    "                # 첫 번째 결과의 좌표 반환\n",
    "                x = result[\"documents\"][0][\"x\"]  # 경도\n",
    "                y = result[\"documents\"][0][\"y\"]  # 위도\n",
    "                # print(f\"주소 검색 성공: {address}\")\n",
    "                return float(y), float(x)\n",
    "            else:\n",
    "                # print(f\"주소를 찾을 수 없습니다: {address}\")\n",
    "                pass\n",
    "\n",
    "        except requests.exceptions.HTTPError as e:\n",
    "            print(f\"HTTP 오류 발생: {e}\")\n",
    "        except Exception as e:\n",
    "            print(f\"기타 오류 발생: {e}\")\n",
    "    \n",
    "    # 모든 시도가 실패하면 None 반환\n",
    "    return None"
   ]
  },
  {
   "cell_type": "code",
   "execution_count": null,
   "metadata": {},
   "outputs": [],
   "source": [
    "unique_addresses = concat[['시군구', '본번', '부번']].drop_duplicates()\n",
    "unique_addresses"
   ]
  },
  {
   "cell_type": "code",
   "execution_count": null,
   "metadata": {},
   "outputs": [],
   "source": [
    "unique_addresses['coordinates'] = unique_addresses.progress_apply(\n",
    "    lambda row: get_coordinates_with_fallback(row['시군구'], row['본번'], row['부번'], api_key=api_key), axis=1\n",
    ")"
   ]
  },
  {
   "cell_type": "code",
   "execution_count": null,
   "metadata": {},
   "outputs": [],
   "source": [
    "concat = concat.merge(unique_addresses, on=['시군구', '본번', '부번'], how='left')\n",
    "concat.head()"
   ]
  },
  {
   "cell_type": "code",
   "execution_count": null,
   "metadata": {},
   "outputs": [],
   "source": [
    "concat['좌표Y'] = concat['coordinates'].astype('str').str.split(',', expand=True)[0].str.split('(', expand=True)[1].astype('float')\n",
    "concat['좌표X'] = concat['coordinates'].astype('str').str.split(',', expand=True)[1].str.split(')', expand=True)[0].astype('float')\n",
    "concat.head()"
   ]
  },
  {
   "cell_type": "code",
   "execution_count": 12,
   "metadata": {},
   "outputs": [],
   "source": [
    "concat.drop(columns=['coordinates'], axis=1, inplace=True)"
   ]
  },
  {
   "cell_type": "code",
   "execution_count": null,
   "metadata": {},
   "outputs": [],
   "source": [
    "concat[['좌표X', '좌표Y']].isnull().sum()"
   ]
  },
  {
   "cell_type": "code",
   "execution_count": null,
   "metadata": {},
   "outputs": [],
   "source": [
    "plt.scatter(concat['좌표X'], concat['좌표Y'])"
   ]
  },
  {
   "cell_type": "markdown",
   "metadata": {},
   "source": [
    "# 지하철 거리"
   ]
  },
  {
   "cell_type": "code",
   "execution_count": 5,
   "metadata": {},
   "outputs": [],
   "source": [
    "subway_path = \"../data/subway_feature.csv\"\n",
    "subway_data = pd.read_csv(subway_path)"
   ]
  },
  {
   "cell_type": "code",
   "execution_count": null,
   "metadata": {},
   "outputs": [],
   "source": [
    "from math import radians, sin, cos, sqrt, atan2\n",
    "from scipy.spatial import KDTree\n",
    "\n",
    "apartment_coords = concat[['좌표Y', '좌표X']].values\n",
    "station_coords = subway_data[['위도', '경도']].values\n",
    "\n",
    "def latlon_to_cartesian(lat, lon):\n",
    "    R = 6371.0  # 지구 반지름 (km)\n",
    "    lat, lon = radians(lat), radians(lon)\n",
    "    x = R * cos(lat) * cos(lon)\n",
    "    y = R * cos(lat) * sin(lon)\n",
    "    z = R * sin(lat)\n",
    "    return x, y, z\n",
    "\n",
    "apartment_cartesian = np.array([latlon_to_cartesian(lat, lon) for lat, lon in apartment_coords])\n",
    "station_cartesian = np.array([latlon_to_cartesian(lat, lon) for lat, lon in station_coords])\n",
    "\n",
    "station_tree = KDTree(station_cartesian)\n",
    "nearest_distances, nearest_station_indices = station_tree.query(apartment_cartesian, k=1)\n",
    "\n",
    "concat['근처지하철역'] = [subway_data.iloc[i]['역사명'] for i in nearest_station_indices]\n",
    "concat['지하철거리'] = nearest_distances\n",
    "\n",
    "concat[['근처지하철역', '지하철거리']].head()\n"
   ]
  },
  {
   "cell_type": "code",
   "execution_count": null,
   "metadata": {},
   "outputs": [],
   "source": [
    "concat.tail()"
   ]
  },
  {
   "cell_type": "code",
   "execution_count": null,
   "metadata": {},
   "outputs": [],
   "source": [
    "concat['좌표Y'].isnull().sum()"
   ]
  },
  {
   "cell_type": "markdown",
   "metadata": {},
   "source": [
    "# 학교"
   ]
  },
  {
   "cell_type": "code",
   "execution_count": 18,
   "metadata": {},
   "outputs": [],
   "source": [
    "school_path = \"../data/school_data.csv\"\n",
    "school_data = pd.read_csv(school_path)\n"
   ]
  },
  {
   "cell_type": "code",
   "execution_count": null,
   "metadata": {},
   "outputs": [],
   "source": [
    "school_data"
   ]
  },
  {
   "cell_type": "code",
   "execution_count": 31,
   "metadata": {},
   "outputs": [],
   "source": [
    "school_coords = np.array(school_data[['위도', '경도']].values)\n",
    "\n",
    "apartment_coords = np.array(concat[['좌표Y', '좌표X']].values)\n",
    "\n",
    "school_tree = KDTree(school_coords)\n",
    "\n",
    "nearby_school_counts = []\n",
    "radius = 0.5  # 반경 1km (단위: km)\n",
    "\n",
    "for apartment in apartment_coords:\n",
    "    indices = school_tree.query_ball_point(apartment, r=radius)\n",
    "    nearby_school_counts.append(len(indices))"
   ]
  },
  {
   "cell_type": "code",
   "execution_count": 33,
   "metadata": {},
   "outputs": [],
   "source": [
    "concat['근처학교수'] = nearby_school_counts"
   ]
  },
  {
   "cell_type": "code",
   "execution_count": null,
   "metadata": {},
   "outputs": [],
   "source": [
    "concat['근처학교수'].value_counts()"
   ]
  },
  {
   "cell_type": "code",
   "execution_count": null,
   "metadata": {},
   "outputs": [],
   "source": [
    "print(concat[['좌표Y', '좌표X', '근처학교수']].head())"
   ]
  },
  {
   "cell_type": "code",
   "execution_count": null,
   "metadata": {},
   "outputs": [],
   "source": [
    "print(school_data[['위도', '경도']].drop_duplicates().head(10))\n",
    "print(school_data[['위도', '경도']].describe())\n"
   ]
  },
  {
   "cell_type": "code",
   "execution_count": null,
   "metadata": {},
   "outputs": [],
   "source": [
    "import matplotlib.pyplot as plt\n",
    "\n",
    "plt.scatter(apartment_coords[:, 1], apartment_coords[:, 0], s=1, label='아파트')\n",
    "plt.scatter(school_coords[:, 1], school_coords[:, 0], s=1, label='학교', color='red')\n",
    "plt.legend()\n",
    "plt.title('아파트와 학교 좌표 분포')\n",
    "plt.xlabel('경도')\n",
    "plt.ylabel('위도')\n",
    "plt.show()\n"
   ]
  },
  {
   "cell_type": "markdown",
   "metadata": {},
   "source": [
    "# 학군"
   ]
  },
  {
   "cell_type": "code",
   "execution_count": null,
   "metadata": {},
   "outputs": [],
   "source": [
    "middleschool_path = \"../data/seoul_middle_school_with_coords.csv\"\n",
    "highschool_path = \"../data/seoul_high_school_with_coords.csv\"\n",
    "middleschool_data = pd.read_csv(middleschool_path)\n",
    "highschool_data = pd.read_csv(highschool_path)\n",
    "\n",
    "print(middleschool_data)\n",
    "print(highschool_data)"
   ]
  },
  {
   "cell_type": "code",
   "execution_count": null,
   "metadata": {},
   "outputs": [],
   "source": [
    "middleschool_data.isnull().sum()"
   ]
  },
  {
   "cell_type": "code",
   "execution_count": null,
   "metadata": {},
   "outputs": [],
   "source": [
    "middleschool_data['등급'] = pd.qcut(\n",
    "    middleschool_data['순위'], \n",
    "    q=[0, 0.1, 0.3, 0.5, 1.0], \n",
    "    labels=['A', 'B', 'C', 'D'] \n",
    ")\n",
    "\n",
    "highschool_data['등급'] = pd.qcut(\n",
    "    highschool_data['순위'],  \n",
    "    q=[0, 0.1, 0.3, 0.5, 1.0],\n",
    "    labels=['A', 'B', 'C', 'D'] \n",
    ")\n",
    "\n",
    "print(middleschool_data[['학교명', '순위', '등급']].head())\n",
    "print(highschool_data[['학교명', '순위', '등급']].head())\n"
   ]
  },
  {
   "cell_type": "code",
   "execution_count": null,
   "metadata": {},
   "outputs": [],
   "source": [
    "middleschool_data['등급 점수'] = middleschool_data['등급'].map({'A': 3, 'B': 2, 'C': 1, 'D': 0})\n",
    "highschool_data['등급 점수'] = highschool_data['등급'].map({'A': 3, 'B': 2, 'C': 1, 'D': 0})\n",
    "\n",
    "print(middleschool_data[['학교명', '순위', '등급', '등급 점수']].head())\n",
    "print(highschool_data[['학교명', '순위', '등급', '등급 점수']].head())\n"
   ]
  },
  {
   "cell_type": "code",
   "execution_count": null,
   "metadata": {},
   "outputs": [],
   "source": [
    "print(middleschool_data[['위도', '경도']].isnull().sum())  \n",
    "print(middleschool_data[['위도', '경도']].describe()) \n"
   ]
  },
  {
   "cell_type": "code",
   "execution_count": 54,
   "metadata": {},
   "outputs": [],
   "source": [
    "middleschool_data['등급 점수'] = middleschool_data['등급 점수'].astype(int)\n",
    "highschool_data['등급 점수'] = highschool_data['등급 점수'].astype(int)\n"
   ]
  },
  {
   "cell_type": "code",
   "execution_count": null,
   "metadata": {},
   "outputs": [],
   "source": [
    "correlation = concat[['학군 점수', '아파트 가격']].corr()\n",
    "print(correlation)\n"
   ]
  },
  {
   "cell_type": "code",
   "execution_count": null,
   "metadata": {},
   "outputs": [],
   "source": [
    "combined_data = pd.concat([middleschool_data, highschool_data])\n",
    "a_grade_schools = combined_data[combined_data['등급'] == 'A']\n",
    "print(a_grade_schools[['학교명', '순위', '등급', '등급 점수']].head())\n"
   ]
  },
  {
   "cell_type": "code",
   "execution_count": null,
   "metadata": {},
   "outputs": [],
   "source": [
    "combined_data['구'] = combined_data['위치'].apply(lambda x: x.split(' ')[0] if pd.notna(x) else None)\n",
    "combined_data['동'] = combined_data['위치'].apply(lambda x: x.split(' ')[1] if pd.notna(x) else None)\n",
    "\n",
    "print(combined_data[['위치', '구', '동']].head())\n"
   ]
  },
  {
   "cell_type": "code",
   "execution_count": null,
   "metadata": {},
   "outputs": [],
   "source": [
    "no_dong_data = combined_data[~combined_data['위치'].str.contains(r'동', regex=True)]"
   ]
  },
  {
   "cell_type": "code",
   "execution_count": null,
   "metadata": {},
   "outputs": [],
   "source": [
    "filtered_data = combined_data[combined_data['위치'].str.contains(r'\\d+|가', regex=True)]"
   ]
  },
  {
   "cell_type": "code",
   "execution_count": null,
   "metadata": {},
   "outputs": [],
   "source": [
    "import re\n",
    "\n",
    "dong_names = [re.sub(r'\\d+', '', dong) for dong in combined_data['동']]\n",
    "dong_list = combined_data['동'].value_counts()\n",
    "dong_list"
   ]
  },
  {
   "cell_type": "code",
   "execution_count": null,
   "metadata": {},
   "outputs": [],
   "source": [
    "grade_counts_by_gu = combined_data.groupby(['동', '등급']).size().reset_index(name='개수')\n",
    "grade_ranked = grade_counts_by_gu.sort_values(by=['등급', '개수'], ascending=[True, False])\n",
    "grade_ranked"
   ]
  },
  {
   "cell_type": "code",
   "execution_count": null,
   "metadata": {},
   "outputs": [],
   "source": [
    "top_n = grade_ranked.groupby('등급').head(5)\n",
    "top_n"
   ]
  },
  {
   "cell_type": "code",
   "execution_count": null,
   "metadata": {},
   "outputs": [],
   "source": [
    "apartment_lat = concat['좌표Y']\n",
    "apartment_lon = concat['좌표X']\n",
    "\n",
    "latitude = a_grade_schools['위도']\n",
    "longitude = a_grade_schools['경도']\n",
    "\n",
    "plt.figure(figsize=(12, 8))\n",
    "\n",
    "plt.scatter(apartment_lon, apartment_lat, s=1, label='아파트', alpha=0.5, color='blue')\n",
    "\n",
    "plt.scatter(longitude, latitude, c='red', label='A 등급 학교', alpha=0.7)\n",
    "\n",
    "plt.title('아파트와 A 등급 학교 좌표 시각화')\n",
    "plt.xlabel('경도')\n",
    "plt.ylabel('위도')\n",
    "plt.legend()\n",
    "plt.grid(True)\n",
    "\n",
    "plt.show()\n"
   ]
  },
  {
   "cell_type": "code",
   "execution_count": null,
   "metadata": {},
   "outputs": [],
   "source": [
    "district_counts = a_grade_schools['위치'].value_counts()\n",
    "\n",
    "district_counts.plot(kind='bar', figsize=(10, 6), color='skyblue')\n",
    "plt.title('구별 A 등급 학교 분포')\n",
    "plt.xlabel('구')\n",
    "plt.ylabel('학교 수')\n",
    "plt.xticks(rotation=45)\n",
    "plt.grid(axis='y')\n",
    "plt.show()\n"
   ]
  },
  {
   "cell_type": "code",
   "execution_count": 146,
   "metadata": {},
   "outputs": [],
   "source": [
    "school_coords = np.array(combined_data[['위도', '경도']].values)\n",
    "apartment_coords = np.array(concat[['좌표Y', '좌표X']].values)"
   ]
  },
  {
   "cell_type": "code",
   "execution_count": 147,
   "metadata": {},
   "outputs": [],
   "source": [
    "apartment_cartesian = np.array([latlon_to_cartesian(lat, lon) for lat, lon in apartment_coords])\n",
    "school_cartesian = np.array([latlon_to_cartesian(lat, lon) for lat, lon in school_coords])\n",
    "\n",
    "school_tree = KDTree(school_cartesian)\n",
    "nearest_distances, nearest_school_indices = school_tree.query(apartment_cartesian, k=1)\n",
    "\n",
    "concat['근처학교'] = [combined_data.iloc[i]['학교명'] for i in nearest_school_indices]\n",
    "concat['학교거리'] = nearest_distances\n",
    "\n"
   ]
  },
  {
   "cell_type": "code",
   "execution_count": null,
   "metadata": {},
   "outputs": [],
   "source": [
    "concat[['근처학교', '학교거리']].value_counts()"
   ]
  },
  {
   "cell_type": "code",
   "execution_count": null,
   "metadata": {},
   "outputs": [],
   "source": [
    "combined_data[['학교명', '등급']]"
   ]
  },
  {
   "cell_type": "code",
   "execution_count": null,
   "metadata": {},
   "outputs": [],
   "source": [
    "concat"
   ]
  },
  {
   "cell_type": "code",
   "execution_count": null,
   "metadata": {},
   "outputs": [],
   "source": [
    "concat['학교등급'] = concat['근처학교'].map(\n",
    "    combined_data.set_index('학교명')['등급']\n",
    ")\n",
    "\n",
    "concat['학교등급']"
   ]
  },
  {
   "cell_type": "code",
   "execution_count": null,
   "metadata": {},
   "outputs": [],
   "source": [
    "a_school_data = concat[concat['등급'] == 'A']\n",
    "a_school_data"
   ]
  },
  {
   "cell_type": "markdown",
   "metadata": {},
   "source": [
    "# 백화점"
   ]
  },
  {
   "cell_type": "code",
   "execution_count": null,
   "metadata": {},
   "outputs": [],
   "source": [
    "commercial_district_path = \"../data/commercial_district.csv\"\n",
    "commercial_district_path  = pd.read_csv(commercial_district_path)\n",
    "commercial_district_path.head()"
   ]
  },
  {
   "cell_type": "code",
   "execution_count": null,
   "metadata": {},
   "outputs": [],
   "source": [
    "commercial_district_path[['도로명주소', '업태구분명']]"
   ]
  },
  {
   "cell_type": "code",
   "execution_count": null,
   "metadata": {},
   "outputs": [],
   "source": [
    "filtered_data = commercial_district_path[\n",
    "    commercial_district_path['사업장명'].str.contains(\n",
    "        '갤러리아|롯데|신세계|현대', case=False, na=False\n",
    "    ) & commercial_district_path['사업장명'].str.contains('백화점', case=False, na=False)\n",
    "]\n",
    "\n",
    "print(filtered_data.shape)\n",
    "\n",
    "filtered_data[['지번주소', '도로명주소', '사업장명', '좌표정보(X)',\t'좌표정보(Y)']]"
   ]
  },
  {
   "cell_type": "code",
   "execution_count": null,
   "metadata": {},
   "outputs": [],
   "source": [
    "def extract_gu_dong(row):\n",
    "    if pd.notna(row['도로명주소']):\n",
    "        gu = row['도로명주소'].split(' ')[1]\n",
    "        dong = row['도로명주소'].split('(')[-1].split(')')[0][:3]\n",
    "        return gu, dong\n",
    "    elif pd.notna(row['지번주소']):\n",
    "        gu = row['지번주소'].split(' ')[1]\n",
    "        dong = row['지번주소'].split(' ')[2]\n",
    "        return gu, dong\n",
    "    else:\n",
    "        return None, None\n",
    "\n",
    "filtered_data[['구', '동']] = filtered_data.apply(lambda row: pd.Series(extract_gu_dong(row)), axis=1)\n",
    "\n",
    "filtered_data[['도로명주소', '지번주소', '구', '동']].head()"
   ]
  },
  {
   "cell_type": "code",
   "execution_count": null,
   "metadata": {},
   "outputs": [],
   "source": [
    "filtered_data[['구', '동']].isnull().sum()"
   ]
  },
  {
   "cell_type": "code",
   "execution_count": null,
   "metadata": {},
   "outputs": [],
   "source": [
    "from pyproj import CRS, Transformer\n",
    "\n",
    "tm_crs = CRS(\"EPSG:5181\")  # TM 좌표계\n",
    "wgs_crs = CRS(\"EPSG:4326\")  # WGS84 좌표계\n",
    "\n",
    "transformer = Transformer.from_crs(tm_crs, wgs_crs, always_xy=True)\n",
    "\n",
    "def convert_coordinates(x, y):\n",
    "    lon, lat = transformer.transform(x, y)\n",
    "    return lat, lon\n",
    "\n",
    "filtered_data['위도'], filtered_data['경도'] = zip(\n",
    "    *filtered_data.apply(lambda row: convert_coordinates(row['좌표정보(X)'], row['좌표정보(Y)']), axis=1)\n",
    ")\n",
    "\n",
    "filtered_data[['사업장명', '도로명주소', '위도', '경도']].head()\n"
   ]
  },
  {
   "cell_type": "code",
   "execution_count": null,
   "metadata": {},
   "outputs": [],
   "source": [
    "import matplotlib.pyplot as plt\n",
    "\n",
    "apartment_lat = concat['좌표Y']\n",
    "apartment_lon = concat['좌표X']\n",
    "\n",
    "latitude = filtered_data['위도']\n",
    "longitude = filtered_data['경도']\n",
    "\n",
    "plt.figure(figsize=(12, 8))\n",
    "\n",
    "plt.scatter(apartment_lon, apartment_lat, s=1, label='아파트', alpha=0.5, color='blue')\n",
    "\n",
    "plt.scatter(longitude, latitude, c='red', label='백화점', alpha=0.7)\n",
    "\n",
    "plt.title('아파트와 백화점 좌표 시각화')\n",
    "plt.xlabel('경도')\n",
    "plt.ylabel('위도')\n",
    "plt.legend()\n",
    "plt.grid(True)\n",
    "\n",
    "plt.show()\n"
   ]
  },
  {
   "cell_type": "markdown",
   "metadata": {},
   "source": [
    "# 저장"
   ]
  },
  {
   "cell_type": "code",
   "execution_count": null,
   "metadata": {},
   "outputs": [],
   "source": [
    "concat.columns"
   ]
  },
  {
   "cell_type": "code",
   "execution_count": null,
   "metadata": {},
   "outputs": [],
   "source": [
    "# 이제 다시 train과 test dataset을 분할해줍니다. 위에서 제작해 놓았던 is_test 칼럼을 이용합니다.\n",
    "dt_train = concat.query('is_test==0')\n",
    "dt_test = concat.query('is_test==1')\n",
    "\n",
    "# 이제 is_test 칼럼은 drop해줍니다.\n",
    "dt_train.drop(['is_test'], axis = 1, inplace=True)\n",
    "dt_test.drop(['is_test'], axis = 1, inplace=True)\n",
    "print(dt_train.shape, dt_test.shape)"
   ]
  },
  {
   "cell_type": "code",
   "execution_count": null,
   "metadata": {},
   "outputs": [],
   "source": [
    "dt_test.drop(columns='target', inplace=True)\n",
    "print(dt_train.shape, dt_test.shape)"
   ]
  },
  {
   "cell_type": "code",
   "execution_count": 167,
   "metadata": {},
   "outputs": [],
   "source": [
    "dt_train.to_csv('./dis_train.csv', index=False)\n",
    "dt_test.to_csv('./dis_test.csv', index=False)"
   ]
  }
 ],
 "metadata": {
  "kernelspec": {
   "display_name": "py3_11_9",
   "language": "python",
   "name": "python3"
  },
  "language_info": {
   "codemirror_mode": {
    "name": "ipython",
    "version": 3
   },
   "file_extension": ".py",
   "mimetype": "text/x-python",
   "name": "python",
   "nbconvert_exporter": "python",
   "pygments_lexer": "ipython3",
   "version": "3.11.9"
  }
 },
 "nbformat": 4,
 "nbformat_minor": 2
}
