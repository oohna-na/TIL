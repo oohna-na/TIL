{
 "cells": [
  {
   "cell_type": "markdown",
   "metadata": {},
   "source": [
    "### geopy 라이브러리 \n",
    "\n",
    "geopy는 python에서 지오코딩(주소를 위도/경도로 변환), 역지오코딩(위도/경도를 주소로 변환), 두 지점 간 거리 계산 등의 지리 데이터를 다루는 데 사용되는 라이브러리이다.\n",
    "\n",
    "\n",
    "#### 사용 시 유의점\n",
    "1. 속도 제한\n",
    "- 대부분의 지오코더 서비스(Nominatim, Google API)는 일정 시간당 요청 수에 제한이 있음\n",
    "- 많은 데이터를 처리하려면 요청 사이에 딜레이를 추가하거나, 사용량 제한이 높은 API를 선택해야 함.\n",
    "\n",
    "2. API 키 필요 여부\n",
    "- Nominatim은 무료로 사용할 수 있지만, Google Geocoding API는 API 키가 필요함."
   ]
  },
  {
   "cell_type": "code",
   "execution_count": 14,
   "metadata": {},
   "outputs": [
    {
     "name": "stdout",
     "output_type": "stream",
     "text": [
      "Requirement already satisfied: geopy in c:\\users\\82105\\.conda\\envs\\py3_9_20\\lib\\site-packages (2.4.1)\n",
      "Requirement already satisfied: geographiclib<3,>=1.52 in c:\\users\\82105\\.conda\\envs\\py3_9_20\\lib\\site-packages (from geopy) (2.0)\n",
      "Note: you may need to restart the kernel to use updated packages.\n"
     ]
    }
   ],
   "source": [
    "%pip install geopy"
   ]
  },
  {
   "cell_type": "code",
   "execution_count": 15,
   "metadata": {},
   "outputs": [],
   "source": [
    "from geopy.geocoders import Nominatim"
   ]
  },
  {
   "cell_type": "code",
   "execution_count": 16,
   "metadata": {},
   "outputs": [],
   "source": [
    "# 지오코딩\n",
    "# 주소를 위도/경도로 변환\n",
    "\n",
    "# 지오코더 초기화\n",
    "geolocator = Nominatim(user_agent='user_test')\n",
    "\n",
    "test = '서울 용산구 한강대로 405'\n",
    "location = geolocator.geocode(test)\n",
    "\n",
    "latitude = location.latitude\n",
    "longitude = location.longitude\n"
   ]
  },
  {
   "cell_type": "code",
   "execution_count": 17,
   "metadata": {},
   "outputs": [
    {
     "name": "stdout",
     "output_type": "stream",
     "text": [
      "37.5541369 126.9708835621629\n"
     ]
    }
   ],
   "source": [
    "print(latitude, longitude)"
   ]
  },
  {
   "cell_type": "code",
   "execution_count": 18,
   "metadata": {},
   "outputs": [
    {
     "name": "stdout",
     "output_type": "stream",
     "text": [
      "주소: 서울역, 405, 한강대로, 봉래동2가, 남영동, 용산구, 서울특별시, 04320, 대한민국\n"
     ]
    }
   ],
   "source": [
    "# 역지오코딩\n",
    "# 위도와 경도로 주소 변환\n",
    "location = geolocator.reverse('37.5545547, 126.9707793' )\n",
    "print(\"주소:\", location.address)\n",
    "\n"
   ]
  }
 ],
 "metadata": {
  "kernelspec": {
   "display_name": "py3_9_20",
   "language": "python",
   "name": "py3_9_20"
  },
  "language_info": {
   "codemirror_mode": {
    "name": "ipython",
    "version": 3
   },
   "file_extension": ".py",
   "mimetype": "text/x-python",
   "name": "python",
   "nbconvert_exporter": "python",
   "pygments_lexer": "ipython3",
   "version": "3.9.20"
  }
 },
 "nbformat": 4,
 "nbformat_minor": 2
}
